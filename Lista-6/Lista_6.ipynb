{
 "cells": [
  {
   "cell_type": "code",
   "execution_count": null,
   "metadata": {},
   "outputs": [],
   "source": []
  },
  {
   "cell_type": "markdown",
   "metadata": {},
   "source": [
    "## Lista 5"
   ]
  },
  {
   "cell_type": "code",
   "execution_count": 183,
   "metadata": {},
   "outputs": [],
   "source": [
    "from pyspark import SparkConf\n",
    "from pyspark.context import SparkContext\n",
    "from pyspark.sql.session import SparkSession\n",
    "import numpy as np\n",
    "import networkx as nx\n",
    "import pandas as pd\n",
    "from graphframes import *"
   ]
  },
  {
   "cell_type": "code",
   "execution_count": 120,
   "metadata": {},
   "outputs": [],
   "source": [
    "config = SparkConf().setAppName('appName').setMaster('local')\n",
    "sctext = SparkContext.getOrCreate(config)\n",
    "spark = SparkSession(sctext)"
   ]
  },
  {
   "cell_type": "code",
   "execution_count": 142,
   "metadata": {},
   "outputs": [],
   "source": [
    "from graphframes import *\n",
    "\n",
    "No = spark.read.csv('transport-nodes.csv', header=True)\n",
    "relation = spark.read.csv('transport-relationships.csv', header=True)\n",
    "graph = GraphFrame(No, relation)"
   ]
  },
  {
   "cell_type": "markdown",
   "metadata": {},
   "source": [
    "### Crie um CSV para armazenar as cidades, com id (nome da cidade), latitude, longitude e população."
   ]
  },
  {
   "cell_type": "code",
   "execution_count": 145,
   "metadata": {},
   "outputs": [
    {
     "name": "stdout",
     "output_type": "stream",
     "text": [
      "+--------------------+---------+---------+----------+\n",
      "|                  id| latitude|longitude|population|\n",
      "+--------------------+---------+---------+----------+\n",
      "|         João Pessoa|52.379189| 4.899431|    809015|\n",
      "|      Campina Grande|52.092876| 5.104480|    334176|\n",
      "|               Patos|52.078663| 4.288788|    107605|\n",
      "|            Cabedelo| 53.61239| -0.22219|      9642|\n",
      "|           São Bento| 53.52285| -1.13116|     34031|\n",
      "|             Triunfo|  51.9775|  4.13333|      9382|\n",
      "|          Mamanguape| 51.96375|   1.3511|     44882|\n",
      "|          Itaporanga| 52.05917|  1.15545|     24692|\n",
      "|               Areia| 51.88921|  0.90421|     22819|\n",
      "|           Rio Tinto|51.509865|-0.118092|     24172|\n",
      "|São José do rio d...|  51.9225|  4.47917|     18034|\n",
      "|          São Mamede| 52.01667|  4.70833|      7724|\n",
      "+--------------------+---------+---------+----------+\n",
      "\n"
     ]
    }
   ],
   "source": [
    "No.show()"
   ]
  },
  {
   "cell_type": "markdown",
   "metadata": {},
   "source": [
    "### Crie outro CSV para armazenar a distância entre essas cidades, com src, dst e relationship como campos (adicione pelo menos 30 registros nesse arquivo)."
   ]
  },
  {
   "cell_type": "code",
   "execution_count": 123,
   "metadata": {},
   "outputs": [
    {
     "name": "stdout",
     "output_type": "stream",
     "text": [
      "+--------------------+--------------------+------------+----+\n",
      "|                 src|                 dst|relationship|cost|\n",
      "+--------------------+--------------------+------------+----+\n",
      "|         João Pessoa|      Campina Grande|       EROAD|  42|\n",
      "|         João Pessoa|               Patos|       EROAD|  56|\n",
      "|               Patos|            Cabedelo|       EROAD|  19|\n",
      "|         João Pessoa|           São Bento|       EROAD| 297|\n",
      "|           São Bento|          São Mamede|       EROAD|  35|\n",
      "|          São Mamede|             Triunfo|       EROAD| 209|\n",
      "|          Mamanguape|               Patos|       EROAD|  17|\n",
      "|               Areia|          Mamanguape|       EROAD|  75|\n",
      "|          Itaporanga|               Areia|       EROAD| 132|\n",
      "|           Rio Tinto|          Itaporanga|       EROAD|  43|\n",
      "|             Triunfo|           Rio Tinto|       EROAD|  85|\n",
      "|São José do rio d...|            Cabedelo|       EROAD|  23|\n",
      "|São José do rio d...|      Campina Grande|       EROAD|  32|\n",
      "|               Patos|São José do rio d...|       EROAD|  30|\n",
      "|          Itaporanga|            Cabedelo|       EROAD|  21|\n",
      "|      Campina Grande|         João Pessoa|       EROAD|  42|\n",
      "|         Itaporanga |            Cabedelo|       EROAD|  21|\n",
      "|         João Pessoa|           Rio Tinto|       EROAD|  54|\n",
      "|         João Pessoa|São José do rio d...|       EROAD|  96|\n",
      "|          São Mamede|           São Bento|       EROAD|  35|\n",
      "+--------------------+--------------------+------------+----+\n",
      "only showing top 20 rows\n",
      "\n"
     ]
    }
   ],
   "source": [
    "relation.show()"
   ]
  },
  {
   "cell_type": "markdown",
   "metadata": {},
   "source": [
    "## Utilizando as bibliotecas do Spark, crie um objeto GraphFrame a partir desses dois CSVs."
   ]
  },
  {
   "cell_type": "code",
   "execution_count": 124,
   "metadata": {},
   "outputs": [
    {
     "name": "stdout",
     "output_type": "stream",
     "text": [
      "+--------------------+------+\n",
      "|                  id|degree|\n",
      "+--------------------+------+\n",
      "|               Areia|     3|\n",
      "|            Cabedelo|     4|\n",
      "|           São Bento|     3|\n",
      "|          São Mamede|     4|\n",
      "|         Itaporanga |     1|\n",
      "|             Triunfo|     2|\n",
      "|         João Pessoa|     6|\n",
      "|           Rio Tinto|     3|\n",
      "|São José do rio d...|     5|\n",
      "|               Patos|     5|\n",
      "|      Campina Grande|     4|\n",
      "|          Mamanguape|     3|\n",
      "|          Itaporanga|     5|\n",
      "+--------------------+------+\n",
      "\n"
     ]
    }
   ],
   "source": [
    "# Utilizando as bibliotecas do Spark, crie um objeto GraphFrame a partir desses dois CSVs.\n",
    "\n",
    "# Número de relações entre os nós\n",
    "graph.degrees.show()"
   ]
  },
  {
   "cell_type": "markdown",
   "metadata": {},
   "source": [
    "## Utilizando o método bfs (Breadth First Search), execute 5 filtragens a sua escolha."
   ]
  },
  {
   "cell_type": "code",
   "execution_count": 125,
   "metadata": {},
   "outputs": [
    {
     "name": "stdout",
     "output_type": "stream",
     "text": [
      "+--------------------+--------------------+--------------------+--------------------+--------------------+--------------------+--------------------+--------------------+--------------------+--------------------+--------------------+--------------------+--------------------+--------------------+--------------------+\n",
      "|                from|                  e0|                  v1|                  e1|                  v2|                  e2|                  v3|                  e3|                  v4|                  e4|                  v5|                  e5|                  v6|                  e6|                  to|\n",
      "+--------------------+--------------------+--------------------+--------------------+--------------------+--------------------+--------------------+--------------------+--------------------+--------------------+--------------------+--------------------+--------------------+--------------------+--------------------+\n",
      "|[Areia, 51.88921,...|[Areia, Mamanguap...|[Mamanguape, 51.9...|[Mamanguape, Pato...|[Patos, 52.078663...|[Patos, São José ...|[São José do rio ...|[São José do rio ...|[Campina Grande, ...|[Campina Grande, ...|[João Pessoa, 52....|[João Pessoa, Rio...|[Rio Tinto, 51.50...|[Rio Tinto, Itapo...|[Itaporanga, 52.0...|\n",
      "+--------------------+--------------------+--------------------+--------------------+--------------------+--------------------+--------------------+--------------------+--------------------+--------------------+--------------------+--------------------+--------------------+--------------------+--------------------+\n",
      "\n"
     ]
    }
   ],
   "source": [
    "# Método 1\n",
    "\n",
    "graph.bfs(fromExpr = \"id = 'Areia'\", toExpr = \"id = 'Itaporanga'\", edgeFilter = \"relationship = 'EROAD'\").show()"
   ]
  },
  {
   "cell_type": "code",
   "execution_count": 126,
   "metadata": {},
   "outputs": [
    {
     "name": "stdout",
     "output_type": "stream",
     "text": [
      "+--------------------+--------------------+--------------------+--------------------+--------------------+--------------------+--------------------+--------------------+--------------------+--------------------+--------------------+\n",
      "|                from|                  e0|                  v1|                  e1|                  v2|                  e2|                  v3|                  e3|                  v4|                  e4|                  to|\n",
      "+--------------------+--------------------+--------------------+--------------------+--------------------+--------------------+--------------------+--------------------+--------------------+--------------------+--------------------+\n",
      "|[Triunfo, 51.9775...|[Triunfo, Rio Tin...|[Rio Tinto, 51.50...|[Rio Tinto, Itapo...|[Itaporanga, 52.0...|[Itaporanga, Arei...|[Areia, 51.88921,...|[Areia, Mamanguap...|[Mamanguape, 51.9...|[Mamanguape, Pato...|[Patos, 52.078663...|\n",
      "+--------------------+--------------------+--------------------+--------------------+--------------------+--------------------+--------------------+--------------------+--------------------+--------------------+--------------------+\n",
      "\n"
     ]
    }
   ],
   "source": [
    "# Método 2\n",
    "\n",
    "graph.bfs(fromExpr = \"id = 'Triunfo'\", toExpr = \"id = 'Patos'\", edgeFilter = \"relationship = 'EROAD'\").show()"
   ]
  },
  {
   "cell_type": "code",
   "execution_count": 127,
   "metadata": {},
   "outputs": [
    {
     "name": "stdout",
     "output_type": "stream",
     "text": [
      "+--------------------+--------------------+--------------------+--------------------+--------------------+\n",
      "|                from|                  e0|                  v1|                  e1|                  to|\n",
      "+--------------------+--------------------+--------------------+--------------------+--------------------+\n",
      "|[João Pessoa, 52....|[João Pessoa, São...|[São José do rio ...|[São José do rio ...|[Cabedelo, 53.612...|\n",
      "|[João Pessoa, 52....|[João Pessoa, Pat...|[Patos, 52.078663...|[Patos, Cabedelo,...|[Cabedelo, 53.612...|\n",
      "+--------------------+--------------------+--------------------+--------------------+--------------------+\n",
      "\n"
     ]
    }
   ],
   "source": [
    "# Método 3\n",
    "\n",
    "graph.bfs(fromExpr = \"id = 'João Pessoa'\", toExpr = \"id = 'Cabedelo'\", edgeFilter = \"relationship = 'EROAD'\").show()"
   ]
  },
  {
   "cell_type": "code",
   "execution_count": 128,
   "metadata": {},
   "outputs": [
    {
     "name": "stdout",
     "output_type": "stream",
     "text": [
      "+--------------------+--------------------+--------------------+--------------------+--------------------+--------------------+--------------------+--------------------+--------------------+--------------------+--------------------+\n",
      "|                from|                  e0|                  v1|                  e1|                  v2|                  e2|                  v3|                  e3|                  v4|                  e4|                  to|\n",
      "+--------------------+--------------------+--------------------+--------------------+--------------------+--------------------+--------------------+--------------------+--------------------+--------------------+--------------------+\n",
      "|[Campina Grande, ...|[Campina Grande, ...|[João Pessoa, 52....|[João Pessoa, Rio...|[Rio Tinto, 51.50...|[Rio Tinto, Itapo...|[Itaporanga, 52.0...|[Itaporanga, Arei...|[Areia, 51.88921,...|[Areia, Mamanguap...|[Mamanguape, 51.9...|\n",
      "+--------------------+--------------------+--------------------+--------------------+--------------------+--------------------+--------------------+--------------------+--------------------+--------------------+--------------------+\n",
      "\n"
     ]
    }
   ],
   "source": [
    "# Método 4\n",
    "\n",
    "graph.bfs(fromExpr = \"id = 'Campina Grande'\", toExpr = \"id = 'Mamanguape'\", edgeFilter = \"relationship = 'EROAD'\").show()"
   ]
  },
  {
   "cell_type": "code",
   "execution_count": 129,
   "metadata": {},
   "outputs": [
    {
     "name": "stdout",
     "output_type": "stream",
     "text": [
      "+--------------------+--------------------+--------------------+--------------------+--------------------+\n",
      "|                from|                  e0|                  v1|                  e1|                  to|\n",
      "+--------------------+--------------------+--------------------+--------------------+--------------------+\n",
      "|[Rio Tinto, 51.50...|[Rio Tinto, Itapo...|[Itaporanga, 52.0...|[Itaporanga, Arei...|[Areia, 51.88921,...|\n",
      "+--------------------+--------------------+--------------------+--------------------+--------------------+\n",
      "\n"
     ]
    }
   ],
   "source": [
    "# Método 5\n",
    "\n",
    "graph.bfs(fromExpr = \"id = 'Rio Tinto'\", toExpr = \"id = 'Areia'\", edgeFilter = \"relationship = 'EROAD'\").show()"
   ]
  },
  {
   "cell_type": "markdown",
   "metadata": {},
   "source": [
    "## Execute 2 consultas utilizando o método find."
   ]
  },
  {
   "cell_type": "code",
   "execution_count": 130,
   "metadata": {},
   "outputs": [
    {
     "name": "stdout",
     "output_type": "stream",
     "text": [
      "+--------------------+--------------------+--------------------+--------------------+--------------------+--------------------+\n",
      "|                   a|            relation|                   b|           relation2|                   c|           relation3|\n",
      "+--------------------+--------------------+--------------------+--------------------+--------------------+--------------------+\n",
      "|[João Pessoa, 52....|[João Pessoa, Pat...|[Patos, 52.078663...|[João Pessoa, São...|[São José do rio ...|[Patos, São José ...|\n",
      "|[João Pessoa, 52....|[João Pessoa, Pat...|[Patos, 52.078663...|[João Pessoa, Cam...|[Campina Grande, ...|[Patos, Campina G...|\n",
      "|[Patos, 52.078663...|[Patos, São José ...|[São José do rio ...|[Patos, Campina G...|[Campina Grande, ...|[São José do rio ...|\n",
      "|[Patos, 52.078663...|[Patos, São José ...|[São José do rio ...|[Patos, Cabedelo,...|[Cabedelo, 53.612...|[São José do rio ...|\n",
      "|[João Pessoa, 52....|[João Pessoa, São...|[São José do rio ...|[João Pessoa, Cam...|[Campina Grande, ...|[São José do rio ...|\n",
      "|[Itaporanga, 52.0...|[Itaporanga, São ...|[São José do rio ...|[Itaporanga, Cabe...|[Cabedelo, 53.612...|[São José do rio ...|\n",
      "+--------------------+--------------------+--------------------+--------------------+--------------------+--------------------+\n",
      "\n"
     ]
    }
   ],
   "source": [
    "# Método Find 1)\n",
    "graph.find(\"(a)-[relation]->(b); (a)-[relation2]->(c); (b)-[relation3]->(c)\").show()"
   ]
  },
  {
   "cell_type": "code",
   "execution_count": 131,
   "metadata": {},
   "outputs": [
    {
     "name": "stdout",
     "output_type": "stream",
     "text": [
      "+--------------------+--------------------+--------------------+--------------------+--------------------+--------------------+--------------------+--------------------+--------------------+\n",
      "|                   a|            relation|                   b|           relation2|                   c|           relation3|                   d|           relation4|                   e|\n",
      "+--------------------+--------------------+--------------------+--------------------+--------------------+--------------------+--------------------+--------------------+--------------------+\n",
      "|[João Pessoa, 52....|[João Pessoa, Cam...|[Campina Grande, ...|[João Pessoa, São...|[São José do rio ...|[João Pessoa, São...|[São José do rio ...|[João Pessoa, São...|[São José do rio ...|\n",
      "|[João Pessoa, 52....|[João Pessoa, Cam...|[Campina Grande, ...|[João Pessoa, São...|[São José do rio ...|[João Pessoa, São...|[São José do rio ...|[João Pessoa, Rio...|[Rio Tinto, 51.50...|\n",
      "|[João Pessoa, 52....|[João Pessoa, Cam...|[Campina Grande, ...|[João Pessoa, São...|[São José do rio ...|[João Pessoa, São...|[São José do rio ...|[João Pessoa, São...|[São Bento, 53.52...|\n",
      "|[João Pessoa, 52....|[João Pessoa, Cam...|[Campina Grande, ...|[João Pessoa, São...|[São José do rio ...|[João Pessoa, São...|[São José do rio ...|[João Pessoa, Pat...|[Patos, 52.078663...|\n",
      "|[João Pessoa, 52....|[João Pessoa, Cam...|[Campina Grande, ...|[João Pessoa, São...|[São José do rio ...|[João Pessoa, São...|[São José do rio ...|[João Pessoa, Cam...|[Campina Grande, ...|\n",
      "|[João Pessoa, 52....|[João Pessoa, Cam...|[Campina Grande, ...|[João Pessoa, São...|[São José do rio ...|[João Pessoa, Rio...|[Rio Tinto, 51.50...|[João Pessoa, São...|[São José do rio ...|\n",
      "|[João Pessoa, 52....|[João Pessoa, Cam...|[Campina Grande, ...|[João Pessoa, São...|[São José do rio ...|[João Pessoa, Rio...|[Rio Tinto, 51.50...|[João Pessoa, Rio...|[Rio Tinto, 51.50...|\n",
      "|[João Pessoa, 52....|[João Pessoa, Cam...|[Campina Grande, ...|[João Pessoa, São...|[São José do rio ...|[João Pessoa, Rio...|[Rio Tinto, 51.50...|[João Pessoa, São...|[São Bento, 53.52...|\n",
      "|[João Pessoa, 52....|[João Pessoa, Cam...|[Campina Grande, ...|[João Pessoa, São...|[São José do rio ...|[João Pessoa, Rio...|[Rio Tinto, 51.50...|[João Pessoa, Pat...|[Patos, 52.078663...|\n",
      "|[João Pessoa, 52....|[João Pessoa, Cam...|[Campina Grande, ...|[João Pessoa, São...|[São José do rio ...|[João Pessoa, Rio...|[Rio Tinto, 51.50...|[João Pessoa, Cam...|[Campina Grande, ...|\n",
      "|[João Pessoa, 52....|[João Pessoa, Cam...|[Campina Grande, ...|[João Pessoa, São...|[São José do rio ...|[João Pessoa, São...|[São Bento, 53.52...|[João Pessoa, São...|[São José do rio ...|\n",
      "|[João Pessoa, 52....|[João Pessoa, Cam...|[Campina Grande, ...|[João Pessoa, São...|[São José do rio ...|[João Pessoa, São...|[São Bento, 53.52...|[João Pessoa, Rio...|[Rio Tinto, 51.50...|\n",
      "|[João Pessoa, 52....|[João Pessoa, Cam...|[Campina Grande, ...|[João Pessoa, São...|[São José do rio ...|[João Pessoa, São...|[São Bento, 53.52...|[João Pessoa, São...|[São Bento, 53.52...|\n",
      "|[João Pessoa, 52....|[João Pessoa, Cam...|[Campina Grande, ...|[João Pessoa, São...|[São José do rio ...|[João Pessoa, São...|[São Bento, 53.52...|[João Pessoa, Pat...|[Patos, 52.078663...|\n",
      "|[João Pessoa, 52....|[João Pessoa, Cam...|[Campina Grande, ...|[João Pessoa, São...|[São José do rio ...|[João Pessoa, São...|[São Bento, 53.52...|[João Pessoa, Cam...|[Campina Grande, ...|\n",
      "|[João Pessoa, 52....|[João Pessoa, Cam...|[Campina Grande, ...|[João Pessoa, São...|[São José do rio ...|[João Pessoa, Pat...|[Patos, 52.078663...|[João Pessoa, São...|[São José do rio ...|\n",
      "|[João Pessoa, 52....|[João Pessoa, Cam...|[Campina Grande, ...|[João Pessoa, São...|[São José do rio ...|[João Pessoa, Pat...|[Patos, 52.078663...|[João Pessoa, Rio...|[Rio Tinto, 51.50...|\n",
      "|[João Pessoa, 52....|[João Pessoa, Cam...|[Campina Grande, ...|[João Pessoa, São...|[São José do rio ...|[João Pessoa, Pat...|[Patos, 52.078663...|[João Pessoa, São...|[São Bento, 53.52...|\n",
      "|[João Pessoa, 52....|[João Pessoa, Cam...|[Campina Grande, ...|[João Pessoa, São...|[São José do rio ...|[João Pessoa, Pat...|[Patos, 52.078663...|[João Pessoa, Pat...|[Patos, 52.078663...|\n",
      "|[João Pessoa, 52....|[João Pessoa, Cam...|[Campina Grande, ...|[João Pessoa, São...|[São José do rio ...|[João Pessoa, Pat...|[Patos, 52.078663...|[João Pessoa, Cam...|[Campina Grande, ...|\n",
      "+--------------------+--------------------+--------------------+--------------------+--------------------+--------------------+--------------------+--------------------+--------------------+\n",
      "only showing top 20 rows\n",
      "\n"
     ]
    }
   ],
   "source": [
    "# Execute 2 consultas utilizando o método find.\n",
    "\n",
    "# Método find 2)\n",
    "graph.find(\"(a)-[relation]->(b); (a)-[relation2]->(c); (a)-[relation3]->(d); (a)-[relation4]->(e)\").show()"
   ]
  },
  {
   "cell_type": "markdown",
   "metadata": {},
   "source": [
    "## Execute 2 consultas utilizando o método filterVertices."
   ]
  },
  {
   "cell_type": "code",
   "execution_count": 132,
   "metadata": {},
   "outputs": [
    {
     "name": "stdout",
     "output_type": "stream",
     "text": [
      "+--------------+---------+---------+----------+\n",
      "|            id| latitude|longitude|population|\n",
      "+--------------+---------+---------+----------+\n",
      "|   João Pessoa|52.379189| 4.899431|    809015|\n",
      "|Campina Grande|52.092876| 5.104480|    334176|\n",
      "|         Patos|52.078663| 4.288788|    107605|\n",
      "+--------------+---------+---------+----------+\n",
      "\n"
     ]
    }
   ],
   "source": [
    "# Método filterVertices  1)\n",
    "population = graph.vertices.filter(\"population > 100000\").show()"
   ]
  },
  {
   "cell_type": "code",
   "execution_count": 133,
   "metadata": {},
   "outputs": [
    {
     "name": "stdout",
     "output_type": "stream",
     "text": [
      "+---+--------+---------+----------+\n",
      "| id|latitude|longitude|population|\n",
      "+---+--------+---------+----------+\n",
      "+---+--------+---------+----------+\n",
      "\n"
     ]
    }
   ],
   "source": [
    "# Execute 2 consultas utilizando o método filterVertices.\n",
    "\n",
    "# Método filterVertices  2)\n",
    "graph.vertices.filter(\"id = 'Paraíba'\").show()"
   ]
  },
  {
   "cell_type": "markdown",
   "metadata": {},
   "source": [
    "### Não retornou nada, pois Paraíba não está na coluna \"id\""
   ]
  },
  {
   "cell_type": "code",
   "execution_count": 134,
   "metadata": {},
   "outputs": [
    {
     "name": "stdout",
     "output_type": "stream",
     "text": [
      "+--------------+---------+---------+----------+\n",
      "|            id| latitude|longitude|population|\n",
      "+--------------+---------+---------+----------+\n",
      "|   João Pessoa|52.379189| 4.899431|    809015|\n",
      "|Campina Grande|52.092876| 5.104480|    334176|\n",
      "|         Patos|52.078663| 4.288788|    107605|\n",
      "|      Cabedelo| 53.61239| -0.22219|      9642|\n",
      "|     São Bento| 53.52285| -1.13116|     34031|\n",
      "|    Itaporanga| 52.05917|  1.15545|     24692|\n",
      "|    São Mamede| 52.01667|  4.70833|      7724|\n",
      "+--------------+---------+---------+----------+\n",
      "\n"
     ]
    }
   ],
   "source": [
    "# Método filterVertices 3)\n",
    "graph.vertices.filter(\"latitude > 51\").show()"
   ]
  },
  {
   "cell_type": "markdown",
   "metadata": {},
   "source": [
    "## Lista 6"
   ]
  },
  {
   "cell_type": "markdown",
   "metadata": {},
   "source": [
    "## Determine o nó central através do grau."
   ]
  },
  {
   "cell_type": "code",
   "execution_count": 180,
   "metadata": {},
   "outputs": [
    {
     "name": "stdout",
     "output_type": "stream",
     "text": [
      "+--------------------+------+--------+---------+\n",
      "|                  id|degree|inDegree|outDegree|\n",
      "+--------------------+------+--------+---------+\n",
      "|         Itaporanga |     1|       0|        1|\n",
      "|             Triunfo|     2|       1|        1|\n",
      "|           São Bento|     3|       2|        1|\n",
      "|           Rio Tinto|     3|       2|        1|\n",
      "|               Areia|     3|       2|        1|\n",
      "|          Mamanguape|     3|       1|        2|\n",
      "|          São Mamede|     4|       2|        2|\n",
      "|            Cabedelo|     4|       4|        0|\n",
      "|      Campina Grande|     4|       3|        1|\n",
      "|São José do rio d...|     5|       3|        2|\n",
      "|          Itaporanga|     5|       1|        4|\n",
      "|               Patos|     5|       2|        3|\n",
      "|         João Pessoa|     6|       1|        5|\n",
      "+--------------------+------+--------+---------+\n",
      "\n"
     ]
    }
   ],
   "source": [
    "degree = graph.degrees\n",
    "degreein = graph.inDegrees\n",
    "degreeout = graph.outDegrees\n",
    "\n",
    "# Sem o parâmetro \"how = 'left'\", as cidades com valores \"zero\" em qualquer coluna, não aparecem.\n",
    "(degree.join(degreein, \"id\", how = \"left\").join(degreeout, \"id\", how = \"left\").fillna(0).sort(\"Degree\").show())"
   ]
  },
  {
   "cell_type": "markdown",
   "metadata": {},
   "source": [
    "#### O nó central através do grau foi João Pessoa"
   ]
  },
  {
   "cell_type": "markdown",
   "metadata": {},
   "source": [
    "## Determine o nó central por centralidade utilizando a distância de Wasserman e a distância harmônica (consultar material)."
   ]
  },
  {
   "cell_type": "code",
   "execution_count": null,
   "metadata": {},
   "outputs": [],
   "source": []
  },
  {
   "cell_type": "code",
   "execution_count": null,
   "metadata": {},
   "outputs": [],
   "source": []
  },
  {
   "cell_type": "markdown",
   "metadata": {},
   "source": [
    "## Determine o nó central por intermediação."
   ]
  },
  {
   "cell_type": "code",
   "execution_count": 181,
   "metadata": {},
   "outputs": [
    {
     "name": "stdout",
     "output_type": "stream",
     "text": [
      "+--------------------+---------+---------+----------+------------------+\n",
      "|                  id| latitude|longitude|population|          pagerank|\n",
      "+--------------------+---------+---------+----------+------------------+\n",
      "|             Triunfo|  51.9775|  4.13333|      9382|0.7715353710183569|\n",
      "|               Patos|52.078663| 4.288788|    107605|0.8286005779465895|\n",
      "|               Areia| 51.88921|  0.90421|     22819|0.8830738318958353|\n",
      "|São José do rio d...|  51.9225|  4.47917|     18034|0.8893305800910256|\n",
      "|           São Bento| 53.52285| -1.13116|     34031|0.9583106181082387|\n",
      "|          Mamanguape| 51.96375|   1.3511|     44882|0.9771496551749105|\n",
      "|      Campina Grande|52.092876| 5.104480|    334176| 1.026047723790365|\n",
      "|           Rio Tinto|51.509865|-0.118092|     24172| 1.069117158772261|\n",
      "|            Cabedelo| 53.61239| -0.22219|      9642|1.0805209777396108|\n",
      "|         João Pessoa|52.379189| 4.899431|    809015| 1.098677475151878|\n",
      "|          Itaporanga| 52.05917|  1.15545|     24692| 1.135286577618707|\n",
      "|          São Mamede| 52.01667|  4.70833|      7724|  1.28234945269222|\n",
      "+--------------------+---------+---------+----------+------------------+\n",
      "\n"
     ]
    }
   ],
   "source": [
    "pr = graph.pageRank(resetProbability = 0.15, maxIter = 50)\n",
    "pr.vertices.sort(\"pagerank\").show()"
   ]
  },
  {
   "cell_type": "markdown",
   "metadata": {},
   "source": [
    "#### O nó central por intermediação é o que obteve o melhor resultado no pagerank, no caso foi: São Mamede"
   ]
  },
  {
   "cell_type": "code",
   "execution_count": null,
   "metadata": {},
   "outputs": [],
   "source": []
  }
 ],
 "metadata": {
  "kernelspec": {
   "display_name": "Python 3",
   "language": "python",
   "name": "python3"
  },
  "language_info": {
   "codemirror_mode": {
    "name": "ipython",
    "version": 3
   },
   "file_extension": ".py",
   "mimetype": "text/x-python",
   "name": "python",
   "nbconvert_exporter": "python",
   "pygments_lexer": "ipython3",
   "version": "3.7.6"
  }
 },
 "nbformat": 4,
 "nbformat_minor": 4
}
