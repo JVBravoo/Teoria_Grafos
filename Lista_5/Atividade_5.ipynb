{
 "cells": [
  {
   "cell_type": "code",
   "execution_count": 52,
   "metadata": {},
   "outputs": [],
   "source": [
    "from pyspark import SparkConf\n",
    "from pyspark.context import SparkContext\n",
    "from pyspark.sql.session import SparkSession\n",
    "from graphframes import *"
   ]
  },
  {
   "cell_type": "code",
   "execution_count": 53,
   "metadata": {},
   "outputs": [],
   "source": [
    "config = SparkConf().setAppName('appName').setMaster('local')\n",
    "sctext = SparkContext.getOrCreate(config)\n",
    "spark = SparkSession(sctext)"
   ]
  },
  {
   "cell_type": "code",
   "execution_count": 54,
   "metadata": {},
   "outputs": [],
   "source": [
    "from graphframes import *\n",
    "\n",
    "no = spark.read.csv('transport-nodes.csv', header=True)\n",
    "relation = spark.read.csv('transport-relationships.csv', header=True)\n",
    "graph = GraphFrame(no, relation)"
   ]
  },
  {
   "cell_type": "code",
   "execution_count": 55,
   "metadata": {},
   "outputs": [
    {
     "name": "stdout",
     "output_type": "stream",
     "text": [
      "+--------------------+------+\n",
      "|                  id|degree|\n",
      "+--------------------+------+\n",
      "|               Areia|     3|\n",
      "|            Cabedelo|     4|\n",
      "|           São Bento|     3|\n",
      "|          São Mamede|     4|\n",
      "|         Itaporanga |     1|\n",
      "|             Triunfo|     2|\n",
      "|         João Pessoa|     6|\n",
      "|           Rio Tinto|     3|\n",
      "|São José do rio d...|     5|\n",
      "|               Patos|     5|\n",
      "|      Campina Grande|     4|\n",
      "|          Mamanguape|     3|\n",
      "|          Itaporanga|     5|\n",
      "+--------------------+------+\n",
      "\n"
     ]
    }
   ],
   "source": [
    "# Utilizando as bibliotecas do Spark, crie um objeto GraphFrame a partir desses dois CSVs.\n",
    "\n",
    "# Número de relações entre os nós\n",
    "graph.degrees.show()"
   ]
  },
  {
   "cell_type": "code",
   "execution_count": 56,
   "metadata": {},
   "outputs": [
    {
     "name": "stdout",
     "output_type": "stream",
     "text": [
      "+--------------------+--------------------+--------------------+--------------------+--------------------+--------------------+\n",
      "|                   a|            relation|                   b|           relation2|                   c|           relation3|\n",
      "+--------------------+--------------------+--------------------+--------------------+--------------------+--------------------+\n",
      "|[João Pessoa, 52....|[João Pessoa, Pat...|[Patos, 52.078663...|[João Pessoa, São...|[São José do rio ...|[Patos, São José ...|\n",
      "|[João Pessoa, 52....|[João Pessoa, Pat...|[Patos, 52.078663...|[João Pessoa, Cam...|[Campina Grande, ...|[Patos, Campina G...|\n",
      "|[Patos, 52.078663...|[Patos, São José ...|[São José do rio ...|[Patos, Campina G...|[Campina Grande, ...|[São José do rio ...|\n",
      "|[Patos, 52.078663...|[Patos, São José ...|[São José do rio ...|[Patos, Cabedelo,...|[Cabedelo, 53.612...|[São José do rio ...|\n",
      "|[João Pessoa, 52....|[João Pessoa, São...|[São José do rio ...|[João Pessoa, Cam...|[Campina Grande, ...|[São José do rio ...|\n",
      "|[Itaporanga, 52.0...|[Itaporanga, São ...|[São José do rio ...|[Itaporanga, Cabe...|[Cabedelo, 53.612...|[São José do rio ...|\n",
      "+--------------------+--------------------+--------------------+--------------------+--------------------+--------------------+\n",
      "\n"
     ]
    }
   ],
   "source": [
    "# Execute 2 consultas utilizando o método find.\n",
    "\n",
    "# Método Find 1)\n",
    "graph.find(\"(a)-[relation]->(b); (a)-[relation2]->(c); (b)-[relation3]->(c)\").show()"
   ]
  },
  {
   "cell_type": "code",
   "execution_count": 57,
   "metadata": {},
   "outputs": [
    {
     "name": "stdout",
     "output_type": "stream",
     "text": [
      "+--------------------+--------------------+--------------------+--------------------+--------------------+--------------------+--------------------+--------------------+--------------------+\n",
      "|                   a|            relation|                   b|           relation2|                   c|           relation3|                   d|           relation4|                   e|\n",
      "+--------------------+--------------------+--------------------+--------------------+--------------------+--------------------+--------------------+--------------------+--------------------+\n",
      "|[João Pessoa, 52....|[João Pessoa, Cam...|[Campina Grande, ...|[João Pessoa, São...|[São José do rio ...|[João Pessoa, São...|[São José do rio ...|[João Pessoa, São...|[São José do rio ...|\n",
      "|[João Pessoa, 52....|[João Pessoa, Cam...|[Campina Grande, ...|[João Pessoa, São...|[São José do rio ...|[João Pessoa, São...|[São José do rio ...|[João Pessoa, Rio...|[Rio Tinto, 51.50...|\n",
      "|[João Pessoa, 52....|[João Pessoa, Cam...|[Campina Grande, ...|[João Pessoa, São...|[São José do rio ...|[João Pessoa, São...|[São José do rio ...|[João Pessoa, São...|[São Bento, 53.52...|\n",
      "|[João Pessoa, 52....|[João Pessoa, Cam...|[Campina Grande, ...|[João Pessoa, São...|[São José do rio ...|[João Pessoa, São...|[São José do rio ...|[João Pessoa, Pat...|[Patos, 52.078663...|\n",
      "|[João Pessoa, 52....|[João Pessoa, Cam...|[Campina Grande, ...|[João Pessoa, São...|[São José do rio ...|[João Pessoa, São...|[São José do rio ...|[João Pessoa, Cam...|[Campina Grande, ...|\n",
      "|[João Pessoa, 52....|[João Pessoa, Cam...|[Campina Grande, ...|[João Pessoa, São...|[São José do rio ...|[João Pessoa, Rio...|[Rio Tinto, 51.50...|[João Pessoa, São...|[São José do rio ...|\n",
      "|[João Pessoa, 52....|[João Pessoa, Cam...|[Campina Grande, ...|[João Pessoa, São...|[São José do rio ...|[João Pessoa, Rio...|[Rio Tinto, 51.50...|[João Pessoa, Rio...|[Rio Tinto, 51.50...|\n",
      "|[João Pessoa, 52....|[João Pessoa, Cam...|[Campina Grande, ...|[João Pessoa, São...|[São José do rio ...|[João Pessoa, Rio...|[Rio Tinto, 51.50...|[João Pessoa, São...|[São Bento, 53.52...|\n",
      "|[João Pessoa, 52....|[João Pessoa, Cam...|[Campina Grande, ...|[João Pessoa, São...|[São José do rio ...|[João Pessoa, Rio...|[Rio Tinto, 51.50...|[João Pessoa, Pat...|[Patos, 52.078663...|\n",
      "|[João Pessoa, 52....|[João Pessoa, Cam...|[Campina Grande, ...|[João Pessoa, São...|[São José do rio ...|[João Pessoa, Rio...|[Rio Tinto, 51.50...|[João Pessoa, Cam...|[Campina Grande, ...|\n",
      "|[João Pessoa, 52....|[João Pessoa, Cam...|[Campina Grande, ...|[João Pessoa, São...|[São José do rio ...|[João Pessoa, São...|[São Bento, 53.52...|[João Pessoa, São...|[São José do rio ...|\n",
      "|[João Pessoa, 52....|[João Pessoa, Cam...|[Campina Grande, ...|[João Pessoa, São...|[São José do rio ...|[João Pessoa, São...|[São Bento, 53.52...|[João Pessoa, Rio...|[Rio Tinto, 51.50...|\n",
      "|[João Pessoa, 52....|[João Pessoa, Cam...|[Campina Grande, ...|[João Pessoa, São...|[São José do rio ...|[João Pessoa, São...|[São Bento, 53.52...|[João Pessoa, São...|[São Bento, 53.52...|\n",
      "|[João Pessoa, 52....|[João Pessoa, Cam...|[Campina Grande, ...|[João Pessoa, São...|[São José do rio ...|[João Pessoa, São...|[São Bento, 53.52...|[João Pessoa, Pat...|[Patos, 52.078663...|\n",
      "|[João Pessoa, 52....|[João Pessoa, Cam...|[Campina Grande, ...|[João Pessoa, São...|[São José do rio ...|[João Pessoa, São...|[São Bento, 53.52...|[João Pessoa, Cam...|[Campina Grande, ...|\n",
      "|[João Pessoa, 52....|[João Pessoa, Cam...|[Campina Grande, ...|[João Pessoa, São...|[São José do rio ...|[João Pessoa, Pat...|[Patos, 52.078663...|[João Pessoa, São...|[São José do rio ...|\n",
      "|[João Pessoa, 52....|[João Pessoa, Cam...|[Campina Grande, ...|[João Pessoa, São...|[São José do rio ...|[João Pessoa, Pat...|[Patos, 52.078663...|[João Pessoa, Rio...|[Rio Tinto, 51.50...|\n",
      "|[João Pessoa, 52....|[João Pessoa, Cam...|[Campina Grande, ...|[João Pessoa, São...|[São José do rio ...|[João Pessoa, Pat...|[Patos, 52.078663...|[João Pessoa, São...|[São Bento, 53.52...|\n",
      "|[João Pessoa, 52....|[João Pessoa, Cam...|[Campina Grande, ...|[João Pessoa, São...|[São José do rio ...|[João Pessoa, Pat...|[Patos, 52.078663...|[João Pessoa, Pat...|[Patos, 52.078663...|\n",
      "|[João Pessoa, 52....|[João Pessoa, Cam...|[Campina Grande, ...|[João Pessoa, São...|[São José do rio ...|[João Pessoa, Pat...|[Patos, 52.078663...|[João Pessoa, Cam...|[Campina Grande, ...|\n",
      "+--------------------+--------------------+--------------------+--------------------+--------------------+--------------------+--------------------+--------------------+--------------------+\n",
      "only showing top 20 rows\n",
      "\n"
     ]
    }
   ],
   "source": [
    "# Execute 2 consultas utilizando o método find.\n",
    "\n",
    "# Método find 2)\n",
    "graph.find(\"(a)-[relation]->(b); (a)-[relation2]->(c); (a)-[relation3]->(d); (a)-[relation4]->(e)\").show()"
   ]
  },
  {
   "cell_type": "code",
   "execution_count": 58,
   "metadata": {},
   "outputs": [
    {
     "name": "stdout",
     "output_type": "stream",
     "text": [
      "+--------------+---------+---------+----------+\n",
      "|            id| latitude|longitude|population|\n",
      "+--------------+---------+---------+----------+\n",
      "|   João Pessoa|52.379189| 4.899431|    809015|\n",
      "|Campina Grande|52.092876| 5.104480|    334176|\n",
      "|         Patos|52.078663| 4.288788|    107605|\n",
      "+--------------+---------+---------+----------+\n",
      "\n"
     ]
    }
   ],
   "source": [
    "# Execute 2 consultas utilizando o método filterVertices.\n",
    "\n",
    "# Método filterVertices  1)\n",
    "population = graph.vertices.filter(\"population > 100000\").show()"
   ]
  },
  {
   "cell_type": "code",
   "execution_count": 59,
   "metadata": {},
   "outputs": [
    {
     "name": "stdout",
     "output_type": "stream",
     "text": [
      "+---+--------+---------+----------+\n",
      "| id|latitude|longitude|population|\n",
      "+---+--------+---------+----------+\n",
      "+---+--------+---------+----------+\n",
      "\n"
     ]
    }
   ],
   "source": [
    "# Execute 2 consultas utilizando o método filterVertices.\n",
    "\n",
    "# Método filterVertices  2)\n",
    "graph.vertices.filter(\"id = 'Paraíba'\").show()"
   ]
  },
  {
   "cell_type": "markdown",
   "metadata": {},
   "source": [
    "## Não retornou nada, pois Paraíba não está na coluna \"id\""
   ]
  },
  {
   "cell_type": "code",
   "execution_count": 60,
   "metadata": {},
   "outputs": [
    {
     "name": "stdout",
     "output_type": "stream",
     "text": [
      "+--------------+---------+---------+----------+\n",
      "|            id| latitude|longitude|population|\n",
      "+--------------+---------+---------+----------+\n",
      "|   João Pessoa|52.379189| 4.899431|    809015|\n",
      "|Campina Grande|52.092876| 5.104480|    334176|\n",
      "|         Patos|52.078663| 4.288788|    107605|\n",
      "|      Cabedelo| 53.61239| -0.22219|      9642|\n",
      "|     São Bento| 53.52285| -1.13116|     34031|\n",
      "|    Itaporanga| 52.05917|  1.15545|     24692|\n",
      "|    São Mamede| 52.01667|  4.70833|      7724|\n",
      "+--------------+---------+---------+----------+\n",
      "\n"
     ]
    }
   ],
   "source": [
    "# Execute 2 consultas utilizando o método filterVertices.\n",
    "\n",
    "# Método filterVertices 3)\n",
    "graph.vertices.filter(\"latitude > 51\").show()"
   ]
  },
  {
   "cell_type": "code",
   "execution_count": null,
   "metadata": {},
   "outputs": [],
   "source": []
  }
 ],
 "metadata": {
  "kernelspec": {
   "display_name": "Python 3",
   "language": "python",
   "name": "python3"
  },
  "language_info": {
   "codemirror_mode": {
    "name": "ipython",
    "version": 3
   },
   "file_extension": ".py",
   "mimetype": "text/x-python",
   "name": "python",
   "nbconvert_exporter": "python",
   "pygments_lexer": "ipython3",
   "version": "3.7.6"
  }
 },
 "nbformat": 4,
 "nbformat_minor": 4
}
