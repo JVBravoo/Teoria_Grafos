{
 "cells": [
  {
   "cell_type": "code",
   "execution_count": null,
   "metadata": {},
   "outputs": [],
   "source": []
  },
  {
   "cell_type": "markdown",
   "metadata": {},
   "source": [
    "## Lista 5"
   ]
  },
  {
   "cell_type": "code",
   "execution_count": 1,
   "metadata": {},
   "outputs": [],
   "source": [
    "from pyspark import SparkConf\n",
    "from pyspark.context import SparkContext\n",
    "from pyspark.sql.session import SparkSession\n",
    "import numpy as np\n",
    "import networkx as nx\n",
    "import pandas as pd\n",
    "from graphframes import *\n",
    "import sys\n",
    "import json"
   ]
  },
  {
   "cell_type": "code",
   "execution_count": 2,
   "metadata": {},
   "outputs": [],
   "source": [
    "config = SparkConf().setAppName('appName').setMaster('local')\n",
    "sctext = SparkContext.getOrCreate(config)\n",
    "spark = SparkSession(sctext)"
   ]
  },
  {
   "cell_type": "code",
   "execution_count": 3,
   "metadata": {},
   "outputs": [],
   "source": [
    "from graphframes import *\n",
    "\n",
    "No = spark.read.csv('transport-nodes.csv', header=True)\n",
    "relation = spark.read.csv('transport-relationships.csv', header=True)\n",
    "graph = GraphFrame(No, relation)"
   ]
  },
  {
   "cell_type": "markdown",
   "metadata": {},
   "source": [
    "### Crie um CSV para armazenar as cidades, com id (nome da cidade), latitude, longitude e população."
   ]
  },
  {
   "cell_type": "code",
   "execution_count": 7,
   "metadata": {},
   "outputs": [
    {
     "name": "stdout",
     "output_type": "stream",
     "text": [
      "+--------------------+---------+---------+----------+\n",
      "|                  id| latitude|longitude|population|\n",
      "+--------------------+---------+---------+----------+\n",
      "|         João Pessoa|52.379189| 4.899431|    809015|\n",
      "|      Campina Grande|52.092876| 5.104480|    334176|\n",
      "|               Patos|52.078663| 4.288788|    107605|\n",
      "|            Cabedelo| 53.61239| -0.22219|      9642|\n",
      "|           São Bento| 53.52285| -1.13116|     34031|\n",
      "|             Triunfo|  51.9775|  4.13333|      9382|\n",
      "|          Mamanguape| 51.96375|   1.3511|     44882|\n",
      "|          Itaporanga| 52.05917|  1.15545|     24692|\n",
      "|               Areia| 51.88921|  0.90421|     22819|\n",
      "|           Rio Tinto|51.509865|-0.118092|     24172|\n",
      "|São José do rio d...|  51.9225|  4.47917|     18034|\n",
      "|          São Mamede| 52.01667|  4.70833|      7724|\n",
      "+--------------------+---------+---------+----------+\n",
      "\n"
     ]
    }
   ],
   "source": [
    "No.show()"
   ]
  },
  {
   "cell_type": "markdown",
   "metadata": {},
   "source": [
    "### Crie outro CSV para armazenar a distância entre essas cidades, com src, dst e relationship como campos (adicione pelo menos 30 registros nesse arquivo)."
   ]
  },
  {
   "cell_type": "code",
   "execution_count": 8,
   "metadata": {},
   "outputs": [
    {
     "name": "stdout",
     "output_type": "stream",
     "text": [
      "+--------------------+--------------------+------------+----+\n",
      "|                 src|                 dst|relationship|cost|\n",
      "+--------------------+--------------------+------------+----+\n",
      "|         João Pessoa|      Campina Grande|       EROAD|  42|\n",
      "|         João Pessoa|               Patos|       EROAD|  56|\n",
      "|               Patos|            Cabedelo|       EROAD|  19|\n",
      "|         João Pessoa|           São Bento|       EROAD| 297|\n",
      "|           São Bento|          São Mamede|       EROAD|  35|\n",
      "|          São Mamede|             Triunfo|       EROAD| 209|\n",
      "|          Mamanguape|               Patos|       EROAD|  17|\n",
      "|               Areia|          Mamanguape|       EROAD|  75|\n",
      "|          Itaporanga|               Areia|       EROAD| 132|\n",
      "|           Rio Tinto|          Itaporanga|       EROAD|  43|\n",
      "|             Triunfo|           Rio Tinto|       EROAD|  85|\n",
      "|São José do rio d...|            Cabedelo|       EROAD|  23|\n",
      "|São José do rio d...|      Campina Grande|       EROAD|  32|\n",
      "|               Patos|São José do rio d...|       EROAD|  30|\n",
      "|          Itaporanga|            Cabedelo|       EROAD|  21|\n",
      "|      Campina Grande|         João Pessoa|       EROAD|  42|\n",
      "|         Itaporanga |            Cabedelo|       EROAD|  21|\n",
      "|         João Pessoa|           Rio Tinto|       EROAD|  54|\n",
      "|         João Pessoa|São José do rio d...|       EROAD|  96|\n",
      "|          São Mamede|           São Bento|       EROAD|  35|\n",
      "+--------------------+--------------------+------------+----+\n",
      "only showing top 20 rows\n",
      "\n"
     ]
    }
   ],
   "source": [
    "relation.show()"
   ]
  },
  {
   "cell_type": "markdown",
   "metadata": {},
   "source": [
    "## Utilizando as bibliotecas do Spark, crie um objeto GraphFrame a partir desses dois CSVs."
   ]
  },
  {
   "cell_type": "code",
   "execution_count": 9,
   "metadata": {},
   "outputs": [
    {
     "name": "stdout",
     "output_type": "stream",
     "text": [
      "+--------------------+------+\n",
      "|                  id|degree|\n",
      "+--------------------+------+\n",
      "|               Areia|     3|\n",
      "|            Cabedelo|     4|\n",
      "|           São Bento|     3|\n",
      "|          São Mamede|     4|\n",
      "|         Itaporanga |     1|\n",
      "|             Triunfo|     2|\n",
      "|         João Pessoa|     6|\n",
      "|           Rio Tinto|     3|\n",
      "|São José do rio d...|     5|\n",
      "|               Patos|     5|\n",
      "|      Campina Grande|     4|\n",
      "|          Mamanguape|     3|\n",
      "|          Itaporanga|     5|\n",
      "+--------------------+------+\n",
      "\n"
     ]
    }
   ],
   "source": [
    "# Utilizando as bibliotecas do Spark, crie um objeto GraphFrame a partir desses dois CSVs.\n",
    "\n",
    "# Número de relações entre os nós\n",
    "graph.degrees.show()"
   ]
  },
  {
   "cell_type": "markdown",
   "metadata": {},
   "source": [
    "## Utilizando o método bfs (Breadth First Search), execute 5 filtragens a sua escolha."
   ]
  },
  {
   "cell_type": "code",
   "execution_count": 10,
   "metadata": {},
   "outputs": [
    {
     "name": "stdout",
     "output_type": "stream",
     "text": [
      "+--------------------+--------------------+--------------------+--------------------+--------------------+--------------------+--------------------+--------------------+--------------------+--------------------+--------------------+--------------------+--------------------+--------------------+--------------------+\n",
      "|                from|                  e0|                  v1|                  e1|                  v2|                  e2|                  v3|                  e3|                  v4|                  e4|                  v5|                  e5|                  v6|                  e6|                  to|\n",
      "+--------------------+--------------------+--------------------+--------------------+--------------------+--------------------+--------------------+--------------------+--------------------+--------------------+--------------------+--------------------+--------------------+--------------------+--------------------+\n",
      "|[Areia, 51.88921,...|[Areia, Mamanguap...|[Mamanguape, 51.9...|[Mamanguape, Pato...|[Patos, 52.078663...|[Patos, São José ...|[São José do rio ...|[São José do rio ...|[Campina Grande, ...|[Campina Grande, ...|[João Pessoa, 52....|[João Pessoa, Rio...|[Rio Tinto, 51.50...|[Rio Tinto, Itapo...|[Itaporanga, 52.0...|\n",
      "+--------------------+--------------------+--------------------+--------------------+--------------------+--------------------+--------------------+--------------------+--------------------+--------------------+--------------------+--------------------+--------------------+--------------------+--------------------+\n",
      "\n"
     ]
    }
   ],
   "source": [
    "# Método 1\n",
    "\n",
    "graph.bfs(fromExpr = \"id = 'Areia'\", toExpr = \"id = 'Itaporanga'\", edgeFilter = \"relationship = 'EROAD'\").show()"
   ]
  },
  {
   "cell_type": "code",
   "execution_count": 126,
   "metadata": {},
   "outputs": [
    {
     "name": "stdout",
     "output_type": "stream",
     "text": [
      "+--------------------+--------------------+--------------------+--------------------+--------------------+--------------------+--------------------+--------------------+--------------------+--------------------+--------------------+\n",
      "|                from|                  e0|                  v1|                  e1|                  v2|                  e2|                  v3|                  e3|                  v4|                  e4|                  to|\n",
      "+--------------------+--------------------+--------------------+--------------------+--------------------+--------------------+--------------------+--------------------+--------------------+--------------------+--------------------+\n",
      "|[Triunfo, 51.9775...|[Triunfo, Rio Tin...|[Rio Tinto, 51.50...|[Rio Tinto, Itapo...|[Itaporanga, 52.0...|[Itaporanga, Arei...|[Areia, 51.88921,...|[Areia, Mamanguap...|[Mamanguape, 51.9...|[Mamanguape, Pato...|[Patos, 52.078663...|\n",
      "+--------------------+--------------------+--------------------+--------------------+--------------------+--------------------+--------------------+--------------------+--------------------+--------------------+--------------------+\n",
      "\n"
     ]
    }
   ],
   "source": [
    "# Método 2\n",
    "\n",
    "graph.bfs(fromExpr = \"id = 'Triunfo'\", toExpr = \"id = 'Patos'\", edgeFilter = \"relationship = 'EROAD'\").show()"
   ]
  },
  {
   "cell_type": "code",
   "execution_count": 127,
   "metadata": {},
   "outputs": [
    {
     "name": "stdout",
     "output_type": "stream",
     "text": [
      "+--------------------+--------------------+--------------------+--------------------+--------------------+\n",
      "|                from|                  e0|                  v1|                  e1|                  to|\n",
      "+--------------------+--------------------+--------------------+--------------------+--------------------+\n",
      "|[João Pessoa, 52....|[João Pessoa, São...|[São José do rio ...|[São José do rio ...|[Cabedelo, 53.612...|\n",
      "|[João Pessoa, 52....|[João Pessoa, Pat...|[Patos, 52.078663...|[Patos, Cabedelo,...|[Cabedelo, 53.612...|\n",
      "+--------------------+--------------------+--------------------+--------------------+--------------------+\n",
      "\n"
     ]
    }
   ],
   "source": [
    "# Método 3\n",
    "\n",
    "graph.bfs(fromExpr = \"id = 'João Pessoa'\", toExpr = \"id = 'Cabedelo'\", edgeFilter = \"relationship = 'EROAD'\").show()"
   ]
  },
  {
   "cell_type": "code",
   "execution_count": 128,
   "metadata": {},
   "outputs": [
    {
     "name": "stdout",
     "output_type": "stream",
     "text": [
      "+--------------------+--------------------+--------------------+--------------------+--------------------+--------------------+--------------------+--------------------+--------------------+--------------------+--------------------+\n",
      "|                from|                  e0|                  v1|                  e1|                  v2|                  e2|                  v3|                  e3|                  v4|                  e4|                  to|\n",
      "+--------------------+--------------------+--------------------+--------------------+--------------------+--------------------+--------------------+--------------------+--------------------+--------------------+--------------------+\n",
      "|[Campina Grande, ...|[Campina Grande, ...|[João Pessoa, 52....|[João Pessoa, Rio...|[Rio Tinto, 51.50...|[Rio Tinto, Itapo...|[Itaporanga, 52.0...|[Itaporanga, Arei...|[Areia, 51.88921,...|[Areia, Mamanguap...|[Mamanguape, 51.9...|\n",
      "+--------------------+--------------------+--------------------+--------------------+--------------------+--------------------+--------------------+--------------------+--------------------+--------------------+--------------------+\n",
      "\n"
     ]
    }
   ],
   "source": [
    "# Método 4\n",
    "\n",
    "graph.bfs(fromExpr = \"id = 'Campina Grande'\", toExpr = \"id = 'Mamanguape'\", edgeFilter = \"relationship = 'EROAD'\").show()"
   ]
  },
  {
   "cell_type": "code",
   "execution_count": 129,
   "metadata": {},
   "outputs": [
    {
     "name": "stdout",
     "output_type": "stream",
     "text": [
      "+--------------------+--------------------+--------------------+--------------------+--------------------+\n",
      "|                from|                  e0|                  v1|                  e1|                  to|\n",
      "+--------------------+--------------------+--------------------+--------------------+--------------------+\n",
      "|[Rio Tinto, 51.50...|[Rio Tinto, Itapo...|[Itaporanga, 52.0...|[Itaporanga, Arei...|[Areia, 51.88921,...|\n",
      "+--------------------+--------------------+--------------------+--------------------+--------------------+\n",
      "\n"
     ]
    }
   ],
   "source": [
    "# Método 5\n",
    "\n",
    "graph.bfs(fromExpr = \"id = 'Rio Tinto'\", toExpr = \"id = 'Areia'\", edgeFilter = \"relationship = 'EROAD'\").show()"
   ]
  },
  {
   "cell_type": "markdown",
   "metadata": {},
   "source": [
    "## Execute 2 consultas utilizando o método find."
   ]
  },
  {
   "cell_type": "code",
   "execution_count": 130,
   "metadata": {},
   "outputs": [
    {
     "name": "stdout",
     "output_type": "stream",
     "text": [
      "+--------------------+--------------------+--------------------+--------------------+--------------------+--------------------+\n",
      "|                   a|            relation|                   b|           relation2|                   c|           relation3|\n",
      "+--------------------+--------------------+--------------------+--------------------+--------------------+--------------------+\n",
      "|[João Pessoa, 52....|[João Pessoa, Pat...|[Patos, 52.078663...|[João Pessoa, São...|[São José do rio ...|[Patos, São José ...|\n",
      "|[João Pessoa, 52....|[João Pessoa, Pat...|[Patos, 52.078663...|[João Pessoa, Cam...|[Campina Grande, ...|[Patos, Campina G...|\n",
      "|[Patos, 52.078663...|[Patos, São José ...|[São José do rio ...|[Patos, Campina G...|[Campina Grande, ...|[São José do rio ...|\n",
      "|[Patos, 52.078663...|[Patos, São José ...|[São José do rio ...|[Patos, Cabedelo,...|[Cabedelo, 53.612...|[São José do rio ...|\n",
      "|[João Pessoa, 52....|[João Pessoa, São...|[São José do rio ...|[João Pessoa, Cam...|[Campina Grande, ...|[São José do rio ...|\n",
      "|[Itaporanga, 52.0...|[Itaporanga, São ...|[São José do rio ...|[Itaporanga, Cabe...|[Cabedelo, 53.612...|[São José do rio ...|\n",
      "+--------------------+--------------------+--------------------+--------------------+--------------------+--------------------+\n",
      "\n"
     ]
    }
   ],
   "source": [
    "# Método Find 1)\n",
    "graph.find(\"(a)-[relation]->(b); (a)-[relation2]->(c); (b)-[relation3]->(c)\").show()"
   ]
  },
  {
   "cell_type": "code",
   "execution_count": 131,
   "metadata": {},
   "outputs": [
    {
     "name": "stdout",
     "output_type": "stream",
     "text": [
      "+--------------------+--------------------+--------------------+--------------------+--------------------+--------------------+--------------------+--------------------+--------------------+\n",
      "|                   a|            relation|                   b|           relation2|                   c|           relation3|                   d|           relation4|                   e|\n",
      "+--------------------+--------------------+--------------------+--------------------+--------------------+--------------------+--------------------+--------------------+--------------------+\n",
      "|[João Pessoa, 52....|[João Pessoa, Cam...|[Campina Grande, ...|[João Pessoa, São...|[São José do rio ...|[João Pessoa, São...|[São José do rio ...|[João Pessoa, São...|[São José do rio ...|\n",
      "|[João Pessoa, 52....|[João Pessoa, Cam...|[Campina Grande, ...|[João Pessoa, São...|[São José do rio ...|[João Pessoa, São...|[São José do rio ...|[João Pessoa, Rio...|[Rio Tinto, 51.50...|\n",
      "|[João Pessoa, 52....|[João Pessoa, Cam...|[Campina Grande, ...|[João Pessoa, São...|[São José do rio ...|[João Pessoa, São...|[São José do rio ...|[João Pessoa, São...|[São Bento, 53.52...|\n",
      "|[João Pessoa, 52....|[João Pessoa, Cam...|[Campina Grande, ...|[João Pessoa, São...|[São José do rio ...|[João Pessoa, São...|[São José do rio ...|[João Pessoa, Pat...|[Patos, 52.078663...|\n",
      "|[João Pessoa, 52....|[João Pessoa, Cam...|[Campina Grande, ...|[João Pessoa, São...|[São José do rio ...|[João Pessoa, São...|[São José do rio ...|[João Pessoa, Cam...|[Campina Grande, ...|\n",
      "|[João Pessoa, 52....|[João Pessoa, Cam...|[Campina Grande, ...|[João Pessoa, São...|[São José do rio ...|[João Pessoa, Rio...|[Rio Tinto, 51.50...|[João Pessoa, São...|[São José do rio ...|\n",
      "|[João Pessoa, 52....|[João Pessoa, Cam...|[Campina Grande, ...|[João Pessoa, São...|[São José do rio ...|[João Pessoa, Rio...|[Rio Tinto, 51.50...|[João Pessoa, Rio...|[Rio Tinto, 51.50...|\n",
      "|[João Pessoa, 52....|[João Pessoa, Cam...|[Campina Grande, ...|[João Pessoa, São...|[São José do rio ...|[João Pessoa, Rio...|[Rio Tinto, 51.50...|[João Pessoa, São...|[São Bento, 53.52...|\n",
      "|[João Pessoa, 52....|[João Pessoa, Cam...|[Campina Grande, ...|[João Pessoa, São...|[São José do rio ...|[João Pessoa, Rio...|[Rio Tinto, 51.50...|[João Pessoa, Pat...|[Patos, 52.078663...|\n",
      "|[João Pessoa, 52....|[João Pessoa, Cam...|[Campina Grande, ...|[João Pessoa, São...|[São José do rio ...|[João Pessoa, Rio...|[Rio Tinto, 51.50...|[João Pessoa, Cam...|[Campina Grande, ...|\n",
      "|[João Pessoa, 52....|[João Pessoa, Cam...|[Campina Grande, ...|[João Pessoa, São...|[São José do rio ...|[João Pessoa, São...|[São Bento, 53.52...|[João Pessoa, São...|[São José do rio ...|\n",
      "|[João Pessoa, 52....|[João Pessoa, Cam...|[Campina Grande, ...|[João Pessoa, São...|[São José do rio ...|[João Pessoa, São...|[São Bento, 53.52...|[João Pessoa, Rio...|[Rio Tinto, 51.50...|\n",
      "|[João Pessoa, 52....|[João Pessoa, Cam...|[Campina Grande, ...|[João Pessoa, São...|[São José do rio ...|[João Pessoa, São...|[São Bento, 53.52...|[João Pessoa, São...|[São Bento, 53.52...|\n",
      "|[João Pessoa, 52....|[João Pessoa, Cam...|[Campina Grande, ...|[João Pessoa, São...|[São José do rio ...|[João Pessoa, São...|[São Bento, 53.52...|[João Pessoa, Pat...|[Patos, 52.078663...|\n",
      "|[João Pessoa, 52....|[João Pessoa, Cam...|[Campina Grande, ...|[João Pessoa, São...|[São José do rio ...|[João Pessoa, São...|[São Bento, 53.52...|[João Pessoa, Cam...|[Campina Grande, ...|\n",
      "|[João Pessoa, 52....|[João Pessoa, Cam...|[Campina Grande, ...|[João Pessoa, São...|[São José do rio ...|[João Pessoa, Pat...|[Patos, 52.078663...|[João Pessoa, São...|[São José do rio ...|\n",
      "|[João Pessoa, 52....|[João Pessoa, Cam...|[Campina Grande, ...|[João Pessoa, São...|[São José do rio ...|[João Pessoa, Pat...|[Patos, 52.078663...|[João Pessoa, Rio...|[Rio Tinto, 51.50...|\n",
      "|[João Pessoa, 52....|[João Pessoa, Cam...|[Campina Grande, ...|[João Pessoa, São...|[São José do rio ...|[João Pessoa, Pat...|[Patos, 52.078663...|[João Pessoa, São...|[São Bento, 53.52...|\n",
      "|[João Pessoa, 52....|[João Pessoa, Cam...|[Campina Grande, ...|[João Pessoa, São...|[São José do rio ...|[João Pessoa, Pat...|[Patos, 52.078663...|[João Pessoa, Pat...|[Patos, 52.078663...|\n",
      "|[João Pessoa, 52....|[João Pessoa, Cam...|[Campina Grande, ...|[João Pessoa, São...|[São José do rio ...|[João Pessoa, Pat...|[Patos, 52.078663...|[João Pessoa, Cam...|[Campina Grande, ...|\n",
      "+--------------------+--------------------+--------------------+--------------------+--------------------+--------------------+--------------------+--------------------+--------------------+\n",
      "only showing top 20 rows\n",
      "\n"
     ]
    }
   ],
   "source": [
    "# Execute 2 consultas utilizando o método find.\n",
    "\n",
    "# Método find 2)\n",
    "graph.find(\"(a)-[relation]->(b); (a)-[relation2]->(c); (a)-[relation3]->(d); (a)-[relation4]->(e)\").show()"
   ]
  },
  {
   "cell_type": "markdown",
   "metadata": {},
   "source": [
    "## Execute 2 consultas utilizando o método filterVertices."
   ]
  },
  {
   "cell_type": "code",
   "execution_count": 132,
   "metadata": {},
   "outputs": [
    {
     "name": "stdout",
     "output_type": "stream",
     "text": [
      "+--------------+---------+---------+----------+\n",
      "|            id| latitude|longitude|population|\n",
      "+--------------+---------+---------+----------+\n",
      "|   João Pessoa|52.379189| 4.899431|    809015|\n",
      "|Campina Grande|52.092876| 5.104480|    334176|\n",
      "|         Patos|52.078663| 4.288788|    107605|\n",
      "+--------------+---------+---------+----------+\n",
      "\n"
     ]
    }
   ],
   "source": [
    "# Método filterVertices  1)\n",
    "population = graph.vertices.filter(\"population > 100000\").show()"
   ]
  },
  {
   "cell_type": "code",
   "execution_count": 133,
   "metadata": {},
   "outputs": [
    {
     "name": "stdout",
     "output_type": "stream",
     "text": [
      "+---+--------+---------+----------+\n",
      "| id|latitude|longitude|population|\n",
      "+---+--------+---------+----------+\n",
      "+---+--------+---------+----------+\n",
      "\n"
     ]
    }
   ],
   "source": [
    "# Execute 2 consultas utilizando o método filterVertices.\n",
    "\n",
    "# Método filterVertices  2)\n",
    "graph.vertices.filter(\"id = 'Paraíba'\").show()"
   ]
  },
  {
   "cell_type": "markdown",
   "metadata": {},
   "source": [
    "### Não retornou nada, pois Paraíba não está na coluna \"id\""
   ]
  },
  {
   "cell_type": "code",
   "execution_count": 134,
   "metadata": {},
   "outputs": [
    {
     "name": "stdout",
     "output_type": "stream",
     "text": [
      "+--------------+---------+---------+----------+\n",
      "|            id| latitude|longitude|population|\n",
      "+--------------+---------+---------+----------+\n",
      "|   João Pessoa|52.379189| 4.899431|    809015|\n",
      "|Campina Grande|52.092876| 5.104480|    334176|\n",
      "|         Patos|52.078663| 4.288788|    107605|\n",
      "|      Cabedelo| 53.61239| -0.22219|      9642|\n",
      "|     São Bento| 53.52285| -1.13116|     34031|\n",
      "|    Itaporanga| 52.05917|  1.15545|     24692|\n",
      "|    São Mamede| 52.01667|  4.70833|      7724|\n",
      "+--------------+---------+---------+----------+\n",
      "\n"
     ]
    }
   ],
   "source": [
    "# Método filterVertices 3)\n",
    "graph.vertices.filter(\"latitude > 51\").show()"
   ]
  },
  {
   "cell_type": "markdown",
   "metadata": {},
   "source": [
    "## Lista 6"
   ]
  },
  {
   "cell_type": "markdown",
   "metadata": {},
   "source": [
    "## Determine o nó central através do grau."
   ]
  },
  {
   "cell_type": "code",
   "execution_count": 4,
   "metadata": {},
   "outputs": [
    {
     "name": "stdout",
     "output_type": "stream",
     "text": [
      "+--------------------+------+--------+---------+\n",
      "|                  id|degree|inDegree|outDegree|\n",
      "+--------------------+------+--------+---------+\n",
      "|         Itaporanga |     1|       0|        1|\n",
      "|             Triunfo|     2|       1|        1|\n",
      "|           São Bento|     3|       2|        1|\n",
      "|           Rio Tinto|     3|       2|        1|\n",
      "|               Areia|     3|       2|        1|\n",
      "|          Mamanguape|     3|       1|        2|\n",
      "|          São Mamede|     4|       2|        2|\n",
      "|            Cabedelo|     4|       4|        0|\n",
      "|      Campina Grande|     4|       3|        1|\n",
      "|São José do rio d...|     5|       3|        2|\n",
      "|          Itaporanga|     5|       1|        4|\n",
      "|               Patos|     5|       2|        3|\n",
      "|         João Pessoa|     6|       1|        5|\n",
      "+--------------------+------+--------+---------+\n",
      "\n"
     ]
    }
   ],
   "source": [
    "degree = graph.degrees\n",
    "degreein = graph.inDegrees\n",
    "degreeout = graph.outDegrees\n",
    "\n",
    "# Sem o parâmetro \"how = 'left'\", as cidades com valores \"zero\" em qualquer coluna, não aparecem.\n",
    "(degree.join(degreein, \"id\", how = \"left\").join(degreeout, \"id\", how = \"left\").fillna(0).sort(\"Degree\").show())"
   ]
  },
  {
   "cell_type": "markdown",
   "metadata": {},
   "source": [
    "#### O nó central através do grau foi João Pessoa"
   ]
  },
  {
   "cell_type": "markdown",
   "metadata": {},
   "source": [
    "## Determine o nó central por centralidade utilizando a distância de Wasserman e a distância harmônica (consultar material)."
   ]
  },
  {
   "cell_type": "markdown",
   "metadata": {},
   "source": [
    "#### Como o NetworkX não estava conseguindo ler o CSV, descobri que era problema do tipo do grafo que eu fiz e o nome das colunas que eu estava utilizando, que no caso eram: \"src\" e \"dst\"."
   ]
  },
  {
   "cell_type": "code",
   "execution_count": 5,
   "metadata": {},
   "outputs": [],
   "source": [
    "nX = pd.read_csv('relationship_networkX.csv')"
   ]
  },
  {
   "cell_type": "code",
   "execution_count": 6,
   "metadata": {},
   "outputs": [],
   "source": [
    "Graphtype = nx.DiGraph()"
   ]
  },
  {
   "cell_type": "code",
   "execution_count": 7,
   "metadata": {},
   "outputs": [],
   "source": [
    "# KeyError: 'source'\n",
    "# During handling of the above exception, another exception occurred:\n",
    "\n",
    "# Quando rodei obtive esse erro, pois a minha coluna precisava estar com o nome de \"source\"\n",
    "\n",
    "graph_nX = nx.from_pandas_edgelist(nX, create_using = Graphtype)"
   ]
  },
  {
   "cell_type": "code",
   "execution_count": 17,
   "metadata": {},
   "outputs": [],
   "source": [
    "def run(acc, param, return_max_only = True):\n",
    "    des = acc(param)\n",
    "    \n",
    "    print(json.dumps(des, indent = 2))\n",
    "    return des if (return_max_only == False)else max(des, key = des.get)"
   ]
  },
  {
   "cell_type": "markdown",
   "metadata": {},
   "source": [
    "### PS: Alguns nomes como João Pessoa, São Bento, São Mamede e São José do rio do Peixe, saíram errados, por causa do acento que usei na base de dados."
   ]
  },
  {
   "cell_type": "code",
   "execution_count": 26,
   "metadata": {},
   "outputs": [
    {
     "name": "stdout",
     "output_type": "stream",
     "text": [
      "{\n",
      "  \"Jo\\u00e3o Pessoa\": 3.6761904761904765,\n",
      "  \"Campina Grande\": 5.283333333333333,\n",
      "  \"Patos\": 4.426190476190477,\n",
      "  \"Cabedelo\": 6.949999999999999,\n",
      "  \"S\\u00e3o Bento\": 4.7,\n",
      "  \"S\\u00e3o Mamede\": 4.533333333333334,\n",
      "  \"Triunfo\": 3.6261904761904766,\n",
      "  \"Mamanguape\": 3.233333333333333,\n",
      "  \"Areia\": 4.2666666666666675,\n",
      "  \"Itaporanga\": 3.7833333333333337,\n",
      "  \"Rio Tinto\": 4.783333333333333,\n",
      "  \"S\\u00e3o Jos\\u00e9 do rio do Peixe\": 5.616666666666666,\n",
      "  \"Itaporanga \": 0\n",
      "}\n"
     ]
    },
    {
     "data": {
      "text/plain": [
       "'Cabedelo'"
      ]
     },
     "execution_count": 26,
     "metadata": {},
     "output_type": "execute_result"
    }
   ],
   "source": [
    "run(nx.harmonic_centrality, graph_nX)"
   ]
  },
  {
   "cell_type": "code",
   "execution_count": 27,
   "metadata": {},
   "outputs": [
    {
     "name": "stdout",
     "output_type": "stream",
     "text": [
      "{\n",
      "  \"Jo\\u00e3o Pessoa\": 0.22522522522522526,\n",
      "  \"Campina Grande\": 0.2976190476190476,\n",
      "  \"Patos\": 0.2450980392156863,\n",
      "  \"Cabedelo\": 0.42857142857142855,\n",
      "  \"S\\u00e3o Bento\": 0.2976190476190476,\n",
      "  \"S\\u00e3o Mamede\": 0.26881720430107525,\n",
      "  \"Triunfo\": 0.21929824561403508,\n",
      "  \"Mamanguape\": 0.1984126984126984,\n",
      "  \"Areia\": 0.25252525252525254,\n",
      "  \"Itaporanga\": 0.2450980392156863,\n",
      "  \"Rio Tinto\": 0.30864197530864196,\n",
      "  \"S\\u00e3o Jos\\u00e9 do rio do Peixe\": 0.34722222222222227,\n",
      "  \"Itaporanga \": 0.0\n",
      "}\n"
     ]
    },
    {
     "data": {
      "text/plain": [
       "'Cabedelo'"
      ]
     },
     "execution_count": 27,
     "metadata": {},
     "output_type": "execute_result"
    }
   ],
   "source": [
    "run(nx.closeness_centrality, graph_nX)"
   ]
  },
  {
   "cell_type": "markdown",
   "metadata": {},
   "source": [
    "## Determine o nó central por intermediação."
   ]
  },
  {
   "cell_type": "code",
   "execution_count": 29,
   "metadata": {},
   "outputs": [
    {
     "name": "stdout",
     "output_type": "stream",
     "text": [
      "{\n",
      "  \"Jo\\u00e3o Pessoa\": 0.26515151515151514,\n",
      "  \"Campina Grande\": 0.25757575757575757,\n",
      "  \"Patos\": 0.14393939393939395,\n",
      "  \"Cabedelo\": 0.0,\n",
      "  \"S\\u00e3o Bento\": 0.09090909090909091,\n",
      "  \"S\\u00e3o Mamede\": 0.16666666666666669,\n",
      "  \"Triunfo\": 0.14393939393939395,\n",
      "  \"Mamanguape\": 0.11363636363636365,\n",
      "  \"Areia\": 0.10606060606060606,\n",
      "  \"Itaporanga\": 0.3106060606060606,\n",
      "  \"Rio Tinto\": 0.30303030303030304,\n",
      "  \"S\\u00e3o Jos\\u00e9 do rio do Peixe\": 0.08333333333333334,\n",
      "  \"Itaporanga \": 0.0\n",
      "}\n"
     ]
    },
    {
     "data": {
      "text/plain": [
       "'Itaporanga'"
      ]
     },
     "execution_count": 29,
     "metadata": {},
     "output_type": "execute_result"
    }
   ],
   "source": [
    "# Gtype = nx.Graph()\n",
    "# G = nx.from_pandas_edgelist(node, create_using=Gtype)\n",
    "# G2 = nx.from_pandas_edgelist(relationship, create_using=Gtype)\n",
    "\n",
    "# Usando Betweenness\n",
    "run(nx.betweenness_centrality, graph_nX)"
   ]
  },
  {
   "cell_type": "code",
   "execution_count": null,
   "metadata": {},
   "outputs": [],
   "source": []
  }
 ],
 "metadata": {
  "kernelspec": {
   "display_name": "Python 3",
   "language": "python",
   "name": "python3"
  },
  "language_info": {
   "codemirror_mode": {
    "name": "ipython",
    "version": 3
   },
   "file_extension": ".py",
   "mimetype": "text/x-python",
   "name": "python",
   "nbconvert_exporter": "python",
   "pygments_lexer": "ipython3",
   "version": "3.7.6"
  }
 },
 "nbformat": 4,
 "nbformat_minor": 4
}
